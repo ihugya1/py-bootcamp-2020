{
  "nbformat": 4,
  "nbformat_minor": 0,
  "metadata": {
    "colab": {
      "name": "GDG - cleaned up workshop notebook",
      "provenance": [],
      "collapsed_sections": [],
      "include_colab_link": true
    },
    "kernelspec": {
      "name": "python3",
      "display_name": "Python 3"
    }
  },
  "cells": [
    {
      "cell_type": "markdown",
      "metadata": {
        "id": "view-in-github",
        "colab_type": "text"
      },
      "source": [
        "<a href=\"https://colab.research.google.com/github/ihugya1/py-bootcamp-2020/blob/master/GDG_cleaned_up_workshop_notebook.ipynb\" target=\"_parent\"><img src=\"https://colab.research.google.com/assets/colab-badge.svg\" alt=\"Open In Colab\"/></a>"
      ]
    },
    {
      "cell_type": "markdown",
      "metadata": {
        "id": "FPguZPAtqXMs"
      },
      "source": [
        "# Welcome to GDG Python Bootcamp Week 1!\n",
        "\n",
        "We'll be going to cover some basics in Python.\n",
        "\n",
        "But before that, let's talk about the environment. This is a notebook. What you're reading now is contained in a text cell which contains documentation. You can format it in [Markdown](https://en.wikipedia.org/wiki/Markdown). \n",
        "\n",
        "The other type of cell is a code cell. Below with the `print('hello world')` text is a code cell. The code cell has a play button that will run that code cell. When you first open this notebook, it will take time to initialize the machine that will run the code. And, yeah, the code you have running in the code block is run in a different machine than your own (living someone in Google's infrastructure). This means that you can run Python code where you can run a browser (this can be your tablet, phone or even your PS5). \n",
        "\n",
        "You can add a code block or a text block with the upper left part of the UI with the +code +text area. \n",
        "\n",
        "Let's start off with the \"Hello World\"\n",
        "\n",
        "To print out hello world in python, you simply use the print() function with the \"hello world!\" string as the argument:"
      ]
    },
    {
      "cell_type": "code",
      "metadata": {
        "colab": {
          "base_uri": "https://localhost:8080/"
        },
        "id": "z0a3SjTPqJVm",
        "outputId": "9787ae09-96b7-49c2-8a32-1ca928438109"
      },
      "source": [
        "print('hello world!')"
      ],
      "execution_count": null,
      "outputs": [
        {
          "output_type": "stream",
          "text": [
            "hello world!\n"
          ],
          "name": "stdout"
        }
      ]
    },
    {
      "cell_type": "markdown",
      "metadata": {
        "id": "bX5hbfi1rIk6"
      },
      "source": [
        "so the code above has these basic parts:\n",
        "\n",
        "print - this is our function. A function is a construct that incloses a piece of code. The code \"inside\" of a function is fairly independent from the other parts of codebase outside of it.\n",
        "\n",
        "'hello world' - this a string. A string is a group of character. We used 'hello world' as argument to print.\n",
        "\n",
        "The next part here is how to assign values to variables. One thing to note is that in Python everything is an object. The official definition of an object is that it's an instance of a class. This will be covered by the week 2 bootcamp team. What we can take away with this right now though is that when we assign a variable to a value, what we're really doing is that we're giving some object a name within the Python program. In the code below, we have `'hello world'` string object being given the name `an_object`. Now anywhere else in our code, the variable `an_object` will be `'hello world'`."
      ]
    },
    {
      "cell_type": "code",
      "metadata": {
        "id": "TKBCRCISrO7X"
      },
      "source": [
        "an_object = 'hello world'\n",
        "a_1_2_combo = 'punch jab'"
      ],
      "execution_count": null,
      "outputs": []
    },
    {
      "cell_type": "markdown",
      "metadata": {
        "id": "NdN85D97VVPl"
      },
      "source": [
        "We are working in a notebook so comments and text are usually inserted in these text blocks. But in most cases, when you are working in a standalone python application, the comments are embedded in the code. We do that by prefixing `#` before the text. We are \"commenting\" with text in this case. Any thing commented are not run by our interpreter."
      ]
    },
    {
      "cell_type": "code",
      "metadata": {
        "colab": {
          "base_uri": "https://localhost:8080/"
        },
        "id": "J14e0AI3sRuB",
        "outputId": "c034478b-ac9f-462b-9d72-7241ad19cd85"
      },
      "source": [
        "# a comment\n",
        "# print('hello_world')\n",
        "print('hello_world')"
      ],
      "execution_count": null,
      "outputs": [
        {
          "output_type": "stream",
          "text": [
            "hello_world\n"
          ],
          "name": "stdout"
        }
      ]
    },
    {
      "cell_type": "markdown",
      "metadata": {
        "id": "AMRfn8fVsm5e"
      },
      "source": [
        "### Types\n",
        "\n",
        "In Python there are 5 basic types. \n",
        "\n",
        "1. Integers\n",
        "2. Floats - rational numbers (float refers to [floating point](https://en.wikipedia.org/wiki/Floating-point_arithmetic))\n",
        "3. Complex Numbers\n",
        "4. Strings - these are words and characters. \"Hello World\" is an example. Can be alphanumeric and punctuations.\n",
        "5. Bool - True or False\n",
        "6. None - specified None type"
      ]
    },
    {
      "cell_type": "code",
      "metadata": {
        "colab": {
          "base_uri": "https://localhost:8080/"
        },
        "id": "aivmbx-zsmG2",
        "outputId": "9b3281af-48b8-4105-8a1e-9e08fcab4db9"
      },
      "source": [
        "# numeric types work well with each other!\n",
        "print(1 + 1.25)\n",
        "print(1.25 - 1.25)\n"
      ],
      "execution_count": null,
      "outputs": [
        {
          "output_type": "stream",
          "text": [
            "2.25\n",
            "0.0\n"
          ],
          "name": "stdout"
        }
      ]
    },
    {
      "cell_type": "markdown",
      "metadata": {
        "id": "kYcZEBfRV-Xa"
      },
      "source": [
        "Always be aware of what types you are working with. In Python we are lucky in that the numeric types (Integers, Floats, Complex etc) knows what to do with each other. But for strings and numerics, this is not the case:"
      ]
    },
    {
      "cell_type": "code",
      "metadata": {
        "colab": {
          "base_uri": "https://localhost:8080/",
          "height": 173
        },
        "id": "XP5O26yztx8i",
        "outputId": "b441e320-f025-4ea1-995e-bd37c87a7ff6"
      },
      "source": [
        "'string' + 1"
      ],
      "execution_count": null,
      "outputs": [
        {
          "output_type": "error",
          "ename": "TypeError",
          "evalue": "ignored",
          "traceback": [
            "\u001b[0;31m---------------------------------------------------------------------------\u001b[0m",
            "\u001b[0;31mTypeError\u001b[0m                                 Traceback (most recent call last)",
            "\u001b[0;32m<ipython-input-101-5098ba85447a>\u001b[0m in \u001b[0;36m<module>\u001b[0;34m()\u001b[0m\n\u001b[0;32m----> 1\u001b[0;31m \u001b[0;34m'string'\u001b[0m \u001b[0;34m+\u001b[0m \u001b[0;36m1\u001b[0m\u001b[0;34m\u001b[0m\u001b[0;34m\u001b[0m\u001b[0m\n\u001b[0m",
            "\u001b[0;31mTypeError\u001b[0m: must be str, not int"
          ]
        }
      ]
    },
    {
      "cell_type": "code",
      "metadata": {
        "colab": {
          "base_uri": "https://localhost:8080/",
          "height": 173
        },
        "id": "0GnI_9hVt4Kk",
        "outputId": "9f18405a-7d6c-4a1c-c4d3-ff9063f59b51"
      },
      "source": [
        "'12' + 1"
      ],
      "execution_count": null,
      "outputs": [
        {
          "output_type": "error",
          "ename": "TypeError",
          "evalue": "ignored",
          "traceback": [
            "\u001b[0;31m---------------------------------------------------------------------------\u001b[0m",
            "\u001b[0;31mTypeError\u001b[0m                                 Traceback (most recent call last)",
            "\u001b[0;32m<ipython-input-102-b2c3d982e258>\u001b[0m in \u001b[0;36m<module>\u001b[0;34m()\u001b[0m\n\u001b[0;32m----> 1\u001b[0;31m \u001b[0;34m'12'\u001b[0m \u001b[0;34m+\u001b[0m \u001b[0;36m1\u001b[0m\u001b[0;34m\u001b[0m\u001b[0;34m\u001b[0m\u001b[0m\n\u001b[0m",
            "\u001b[0;31mTypeError\u001b[0m: must be str, not int"
          ]
        }
      ]
    },
    {
      "cell_type": "markdown",
      "metadata": {
        "id": "IHQN4112t_bA"
      },
      "source": [
        "What we can do is to 'type cast' the value to another type. Here are some basic type casting functions that we can use:\n",
        "\n",
        "1. int(input_string)\n",
        "2. float(input_string)\n",
        "3. str(input_number)\n"
      ]
    },
    {
      "cell_type": "code",
      "metadata": {
        "id": "EU2rV1Pkt8fZ"
      },
      "source": [
        "int_12 = int('12') \n",
        "\n",
        "int_12 + 1"
      ],
      "execution_count": null,
      "outputs": []
    },
    {
      "cell_type": "markdown",
      "metadata": {
        "id": "Q9pp4S1yWujN"
      },
      "source": [
        "Just keep in mind that the input must make sense:"
      ]
    },
    {
      "cell_type": "code",
      "metadata": {
        "colab": {
          "base_uri": "https://localhost:8080/",
          "height": 174
        },
        "id": "g5_XffACWvx2",
        "outputId": "86f8efc3-b806-457d-9f87-733ba55c64ab"
      },
      "source": [
        "int('one')"
      ],
      "execution_count": null,
      "outputs": [
        {
          "output_type": "error",
          "ename": "ValueError",
          "evalue": "ignored",
          "traceback": [
            "\u001b[0;31m---------------------------------------------------------------------------\u001b[0m",
            "\u001b[0;31mValueError\u001b[0m                                Traceback (most recent call last)",
            "\u001b[0;32m<ipython-input-1-4f3ea1d042dc>\u001b[0m in \u001b[0;36m<module>\u001b[0;34m()\u001b[0m\n\u001b[0;32m----> 1\u001b[0;31m \u001b[0mint\u001b[0m\u001b[0;34m(\u001b[0m\u001b[0;34m'one'\u001b[0m\u001b[0;34m)\u001b[0m\u001b[0;34m\u001b[0m\u001b[0;34m\u001b[0m\u001b[0m\n\u001b[0m",
            "\u001b[0;31mValueError\u001b[0m: invalid literal for int() with base 10: 'one'"
          ]
        }
      ]
    },
    {
      "cell_type": "markdown",
      "metadata": {
        "id": "I3uNhLWOW_mL"
      },
      "source": [
        "To determine what types we are working with, use the `type()` function:"
      ]
    },
    {
      "cell_type": "code",
      "metadata": {
        "id": "mF4xRHQsu2qf",
        "colab": {
          "base_uri": "https://localhost:8080/"
        },
        "outputId": "a161f64e-a73a-47b9-d8ac-56133290396e"
      },
      "source": [
        "print(1, type(1))\n",
        "print('a_string', type('a string'))\n",
        "print(14.0, type(14.0))\n",
        "print(None, type(None))"
      ],
      "execution_count": null,
      "outputs": [
        {
          "output_type": "stream",
          "text": [
            "1 <class 'int'>\n",
            "a_string <class 'str'>\n",
            "14.0 <class 'float'>\n",
            "None <class 'NoneType'>\n"
          ],
          "name": "stdout"
        }
      ]
    },
    {
      "cell_type": "markdown",
      "metadata": {
        "id": "w5CFMl3AvR01"
      },
      "source": [
        "# Numeric Operations\n",
        "\n",
        "Our basic operators are:\n",
        "*   `+` - addition\n",
        "*   `-` - subtraction\n",
        "*   `*` - multiplication\n",
        "*   `/` `//` - division and integer division \n",
        "*   `**` - exponentiation\n",
        "\n",
        "These can take different types of numbers as long as they are numbers.\n",
        "\n",
        "Some additional nice functions:\n",
        "*   `abs()` - take the absolute value\n",
        "*   `max()` - max of all the arguments\n",
        "*   `min()` - min of all the arguements\n",
        "\n"
      ]
    },
    {
      "cell_type": "code",
      "metadata": {
        "id": "nfkbnHC8vdeo",
        "colab": {
          "base_uri": "https://localhost:8080/"
        },
        "outputId": "e3ba21be-b961-4503-b3c5-1e3c9714bdef"
      },
      "source": [
        "print(13 / 2)\n",
        "print(13 // 2) # returns an integer\n",
        "print(abs(-12))\n",
        "print(1 + -2)\n",
        "print(max(12,6))"
      ],
      "execution_count": null,
      "outputs": [
        {
          "output_type": "stream",
          "text": [
            "6.5\n",
            "6\n",
            "12\n",
            "-1\n",
            "12\n"
          ],
          "name": "stdout"
        }
      ]
    },
    {
      "cell_type": "markdown",
      "metadata": {
        "id": "B1NQCeRlwI23"
      },
      "source": [
        "# Strings\n",
        "\n",
        "As I've mentioned before, strings is an group of characters. Since it's group of characters, we can access each of its members or group of members. We use the `[<int>]` syntax to access them."
      ]
    },
    {
      "cell_type": "code",
      "metadata": {
        "id": "krWvAlMZwaRu",
        "colab": {
          "base_uri": "https://localhost:8080/"
        },
        "outputId": "3cc221aa-7858-4197-e6b9-4780fbab3f3f"
      },
      "source": [
        "a_string = 'abcdefg'\n",
        "print(a_string[6]) # indexing in python starts at 0"
      ],
      "execution_count": null,
      "outputs": [
        {
          "output_type": "stream",
          "text": [
            "g\n"
          ],
          "name": "stdout"
        }
      ]
    },
    {
      "cell_type": "markdown",
      "metadata": {
        "id": "1RsD9ulrV1kW"
      },
      "source": [
        "We can even specify a subgroup. We use the slicing notation:\n",
        "\n",
        "`'a python strong'[m:n:s]`\n",
        "\n",
        "- `m`: start index\n",
        "- `n`: end index (but not included in the slice)\n",
        "- `s`: step size going the the next character in the string"
      ]
    },
    {
      "cell_type": "code",
      "metadata": {
        "id": "oRf2YEkVwrl5",
        "colab": {
          "base_uri": "https://localhost:8080/"
        },
        "outputId": "9b6ddfa3-8c53-41c9-a3a7-16ddafeadd39"
      },
      "source": [
        "a_string = 'abcdefg'\n",
        "a_string[0:3]\n",
        "# a_string[m:n:s]\n",
        "# m -> start index \n",
        "# n -> go upto nth index but not including the value at n\n",
        "# s -> the size of the step from m to the next value to take\n",
        "\n",
        "print('a_string[1:5]', a_string[1:5])\n",
        "print('a_string[1:5:2]', a_string[1:5:2])\n",
        "\n",
        "a_string = 'abcdefg'\n",
        "\n",
        "print('a_string[-1]', a_string[-1]) # what happens with negative\n",
        "print('a_string[1:]', a_string[1:]) # from index 1 until the end\n",
        "print('a_string[:4]', a_string[:4]) # from index 0 (start) until but not including index 4"
      ],
      "execution_count": null,
      "outputs": [
        {
          "output_type": "stream",
          "text": [
            "a_string[1:5] bcde\n",
            "a_string[1:5:2] bd\n",
            "a_string[-1] g\n",
            "a_string[1:] bcdefg\n",
            "a_string[:4] abcd\n"
          ],
          "name": "stdout"
        }
      ]
    },
    {
      "cell_type": "markdown",
      "metadata": {
        "id": "-62OuIM-Znvp"
      },
      "source": [
        "We have a few methods available to us for convinience. \n",
        "\n",
        "\n",
        "1.   `upper()` - upper case\n",
        "2.   `lower()` - lower case\n",
        "3.   `count()` - return length of the string\n",
        "3.   `index(<substring>)` - returns index of the first occurence of <substring> returns `-1` if it doesnt find it.\n",
        "3.   `index(<substring>)` - returns index of the first occurence of <substring> but raises and error if it doesn't find it.\n",
        "\n"
      ]
    },
    {
      "cell_type": "code",
      "metadata": {
        "id": "LuNTd1bSxtW_",
        "colab": {
          "base_uri": "https://localhost:8080/"
        },
        "outputId": "d89be2ea-9ce4-421d-f393-6328aba63b2f"
      },
      "source": [
        "a_string = 'abcdefgabc'\n",
        "print('a_string.upper()', a_string.upper())\n",
        "upper_case_string = a_string.upper()\n",
        "print('upper_case_string.lower()', upper_case_string.lower())\n",
        "print('a_string.count(\\'abc\\')', a_string.count('abc'))\n",
        "print('a_string.find(\\'def\\')', a_string.find('def'))\n",
        "print('a_string.index(\\'def\\')', a_string.index('def')) \n",
        "print('a_string.replace(\\'abc\\', \\'xyz\\')', a_string.replace('abc', 'xyz'))\n"
      ],
      "execution_count": null,
      "outputs": [
        {
          "output_type": "stream",
          "text": [
            "a_string.upper() ABCDEFGABC\n",
            "upper_case_string.lower() abcdefgabc\n",
            "a_string.count('abc') 2\n",
            "a_string.find('def') 3\n",
            "a_string.index('def') 3\n",
            "a_string.replace('abc', 'xyz') xyzdefgxyz\n"
          ],
          "name": "stdout"
        }
      ]
    },
    {
      "cell_type": "markdown",
      "metadata": {
        "id": "WkoiRy2oiv81"
      },
      "source": [
        "When workign with strings, we can combine them with `+`:"
      ]
    },
    {
      "cell_type": "code",
      "metadata": {
        "colab": {
          "base_uri": "https://localhost:8080/"
        },
        "id": "WcHdudHli0Db",
        "outputId": "bb327fd0-55a8-480c-e953-cbc2b72a4e70"
      },
      "source": [
        "print('\\'abc\\' + \\'def\\'', 'abc' + 'def')"
      ],
      "execution_count": null,
      "outputs": [
        {
          "output_type": "stream",
          "text": [
            "'abc' + 'def' abcdef\n"
          ],
          "name": "stdout"
        }
      ]
    },
    {
      "cell_type": "markdown",
      "metadata": {
        "id": "yNFLUTuNi9ae"
      },
      "source": [
        "And we can interpolate other strings with using the `f` construct:"
      ]
    },
    {
      "cell_type": "code",
      "metadata": {
        "colab": {
          "base_uri": "https://localhost:8080/"
        },
        "id": "cV_-vk7_jCHe",
        "outputId": "2350d242-48e6-46a3-f1c0-e6234d159dc9"
      },
      "source": [
        "first_6_alpha = 'abcdef'\n",
        "print('f\\'the first 6 of the alphabeth: {first_6_alpha}\\'', f'the first 6 of the alphabeth: {first_6_alpha}')"
      ],
      "execution_count": null,
      "outputs": [
        {
          "output_type": "stream",
          "text": [
            "f'the first 6 of the alphabeth: {first_6_alpha}' the first 6 of the alphabeth: abcdef\n"
          ],
          "name": "stdout"
        }
      ]
    },
    {
      "cell_type": "markdown",
      "metadata": {
        "id": "9rVUqh58azMp"
      },
      "source": [
        "To receive input, we can use the `input(<prompt>)` function. This will wait until the user inputs a value to continue. The `input(<prompt>)` will always return a `string` type so remember to convert the string received to the type that you need."
      ]
    },
    {
      "cell_type": "code",
      "metadata": {
        "id": "ECEIRghl0N64",
        "colab": {
          "base_uri": "https://localhost:8080/"
        },
        "outputId": "f4d978e1-fa34-479c-9fcd-2dca1d442ec5"
      },
      "source": [
        "my_var = input('give me something:')\n",
        "print(int(my_var) + 2) # my var is always a string"
      ],
      "execution_count": null,
      "outputs": [
        {
          "output_type": "stream",
          "text": [
            "give me something:25\n",
            "27\n"
          ],
          "name": "stdout"
        }
      ]
    },
    {
      "cell_type": "markdown",
      "metadata": {
        "id": "pHtQW01tcc5r"
      },
      "source": [
        "# Booleans and Expressions\n",
        "\n",
        "We mention the boolean type before and it can only have two values: `True` or `False`. We also have 3 boolean operators:\n",
        "\n",
        "\n",
        "\n",
        "1. `and`\n",
        "2. `or`\n",
        "3. `not`\n",
        "\n",
        "\n",
        "![image.png](data:image/png;base64,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)"
      ]
    },
    {
      "cell_type": "code",
      "metadata": {
        "id": "jIBlYF-s0ssH"
      },
      "source": [
        "print('True or False', True or False)\n",
        "print('True and False', True and False)\n",
        "print('not False', not False)"
      ],
      "execution_count": null,
      "outputs": []
    },
    {
      "cell_type": "markdown",
      "metadata": {
        "id": "OD-dZDOE1D41"
      },
      "source": [
        "These comparison operators evaluates into either `True` or `False`:\n",
        "\n",
        "1.   `==` - equality\n",
        "2.   `<, <=` ->  less\n",
        "3.   `>, >=` -> greater than/equal to\n",
        "4.   `!=` -> not equal\n",
        "\n",
        "We can combine these operators along with the boolean operators. We can generate fairly complicated decision logic with this. \n",
        "\n",
        "The combination of these operators and operands that evaluate into one value are called expressions. We can combine and compare expressions together as long as the expression evaualates to the correct type of value for the operators used.\n",
        "\n",
        "And as with pretty much anyhting in python, the an expression is an object and can be assigned to variables\n",
        "\n"
      ]
    },
    {
      "cell_type": "code",
      "metadata": {
        "id": "MSOhkR2F1Ute",
        "colab": {
          "base_uri": "https://localhost:8080/"
        },
        "outputId": "af84cb5a-621a-4ba4-b151-c4aa697a896d"
      },
      "source": [
        "one_expression = 1 == 1\n",
        "other_expression = 2 == 1\n",
        "print('one_expression or other_expression', one_expression or other_expression)\n",
        "print('(1 == 1) or ((2 == 1) or 1 == 3)', (1 == 1) or ((2 == 1) or 1 == 3))"
      ],
      "execution_count": null,
      "outputs": [
        {
          "output_type": "stream",
          "text": [
            "one_expression or other_expression True\n",
            "(1 == 1) or ((2 == 1) or 1 == 3) True\n"
          ],
          "name": "stdout"
        }
      ]
    },
    {
      "cell_type": "markdown",
      "metadata": {
        "id": "ll_W_A05fGkn"
      },
      "source": [
        "We can use these expressions in an `if`-statement.\n",
        "\n",
        "`if` statements look like this:\n",
        "\n",
        "```\n",
        "if <if expression>:\n",
        "    <if block>\n",
        "```\n",
        "\n",
        "if the expression `<if expression>` evaluates to `True`, the `<if block>` code will execute. \n",
        "\n",
        "You can extend the `if` expression with the `else` keyword and `elif` keyword.\n",
        "\n",
        "```\n",
        "if <if expression>:\n",
        "    <if block>\n",
        "elif <elif expression>:\n",
        "    <elif block>\n",
        "else <else expression>:\n",
        "    <else block>\n",
        "```\n",
        "\n",
        "If the `<if expression>` evaluates to `False`, python will then check the `<elif expression>` and if this is `True` the `<elif block>` will execute and python exits the `if` statement if not, it will go finally to the `else` block and the `<else block>` code is executed.\n",
        "\n",
        "We can have more than one `elif` and they will be executed in sequence. We can only have one `if` and one `else` in a `if` statement."
      ]
    },
    {
      "cell_type": "code",
      "metadata": {
        "id": "1r8Oc3PF2Efj",
        "colab": {
          "base_uri": "https://localhost:8080/"
        },
        "outputId": "58d18ac6-56c4-4ac7-ff93-c51843ef621f"
      },
      "source": [
        "if 1 == 2:\n",
        "  print('this is true')\n",
        "elif 2 > 3:\n",
        "  print('this is again true')\n",
        "elif 2 > 1:\n",
        "  print('this is once again true')\n",
        "else:\n",
        "  print('this is false')\n"
      ],
      "execution_count": null,
      "outputs": [
        {
          "output_type": "stream",
          "text": [
            "this is once again true\n"
          ],
          "name": "stdout"
        }
      ]
    },
    {
      "cell_type": "markdown",
      "metadata": {
        "id": "I69eT2z4g1wl"
      },
      "source": [
        "If you're using the `if` statement to assign a value, there is the ternary operator which is a one liner.\n",
        "\n",
        "`value = <true value> if <if expression> else <false value>`\n",
        "\n",
        "If the`<if expression>` is `True` the ternery expression evaluates to the `<true value>`, if `False` then the `<false value>`"
      ]
    },
    {
      "cell_type": "code",
      "metadata": {
        "colab": {
          "base_uri": "https://localhost:8080/"
        },
        "id": "7wuFDeHh34QL",
        "outputId": "34a1c9fb-ff34-492a-ffaf-9766b312e1ab"
      },
      "source": [
        "# this statement:\n",
        "\n",
        "a_number = 1\n",
        "a_value = 2 if a_number > 3 else 1\n",
        "\n",
        "# is equivalent to:\n",
        "\n",
        "\n",
        "a_value = None\n",
        "if a_number > 3:\n",
        "  a_value = 2\n",
        "else:\n",
        "  a_value = 1\n",
        "\n",
        "print(a_value)"
      ],
      "execution_count": null,
      "outputs": [
        {
          "output_type": "stream",
          "text": [
            "1\n"
          ],
          "name": "stdout"
        }
      ]
    },
    {
      "cell_type": "markdown",
      "metadata": {
        "id": "gg8BQ_eP9hg8"
      },
      "source": [
        "# Example fahrenheit to celsius converter\n",
        "\n",
        "We'll make a converter that takes fahreiheit then returns you celsius. \n",
        "\n",
        "We have a formulas and we'll convert it into a working program:\n",
        "\n",
        "*   `Fahrenheit = Celsius * 1.8 + 32`\n",
        "*   `Celsius = (Fahrenheit - 32/1.8)` - moved around the celsius variable\n",
        "\n",
        "\n",
        "\n"
      ]
    },
    {
      "cell_type": "code",
      "metadata": {
        "colab": {
          "base_uri": "https://localhost:8080/"
        },
        "id": "OoLu20NR8hQm",
        "outputId": "5557204d-1116-4059-e2ab-c9c215c43903"
      },
      "source": [
        "# Let's take the input from the user. Since input returns a string, make sure we convert it to float()\n",
        "fahrenheit = float(input('enter your temp (in fahrenheit):'))\n",
        "\n",
        "# notice that this is the formula we have above.\n",
        "celsius = ((fahrenheit - 32)/1.8)\n",
        "# we'll round the value so we only have 2 decimal points\n",
        "celsius = round(celsius, 2)\n",
        "\n",
        "# then print the result. We use the f string which is pretty much template strings from javascript.\n",
        "print(f'The current temperature {celsius}°C')"
      ],
      "execution_count": null,
      "outputs": [
        {
          "output_type": "stream",
          "text": [
            "enter your temp (in fahrenheit):40\n",
            "The current temperature 4.44°C\n"
          ],
          "name": "stdout"
        }
      ]
    },
    {
      "cell_type": "markdown",
      "metadata": {
        "id": "X0jbaW1H_Hj_"
      },
      "source": [
        "\n",
        "# Example: centimeters to feet and inches\n",
        "\n",
        "This is a bit more complicated as there are a few different formalas that we need to use:\n",
        "\n",
        "So to get the inches count we need to use these two formulas:\n",
        "- `1 inch = 2.54 cm`\n",
        "- `1 foot = 12 inches`\n",
        "\n",
        "When we have the inches equivalent, we have to get the feet measurment:\n",
        "\n",
        "- `feet = inches/12`\n",
        "\n",
        "Then use the remain to get the remaining inches value:\n",
        "\n",
        "- `inches_remainder = inches/12 remainder of this operation`\n"
      ]
    },
    {
      "cell_type": "code",
      "metadata": {
        "colab": {
          "base_uri": "https://localhost:8080/"
        },
        "id": "K_SZ6EsP_GZx",
        "outputId": "490b26e4-3a98-45a4-e815-75d0fe3b6565"
      },
      "source": [
        "# remember we need to convert the input to float\n",
        "cm_measure = float(input('enter your height (in cm):'))\n",
        "\n",
        "# cm to inches\n",
        "inches = cm_measure/2.54\n",
        "\n",
        "# use the // division operator so it returns the integer part of the division (not the fractional)\n",
        "feet = inches//12 # just the whole number part\n",
        "\n",
        "#this is the remainder value so the inches value in ft and inches. round to 0 decimal points, 0 is the default\n",
        "inches_remainder = round(inches % 12)\n",
        "\n",
        "\n",
        "print(f'{feet} ft {inches_remainder} in')\n"
      ],
      "execution_count": null,
      "outputs": [
        {
          "output_type": "stream",
          "text": [
            "enter your height (in cm):175\n",
            "5.0 ft 9 in\n"
          ],
          "name": "stdout"
        }
      ]
    },
    {
      "cell_type": "markdown",
      "metadata": {
        "id": "i4sJfVIzBCLu"
      },
      "source": [
        "# Basic Data Structures\n",
        "\n",
        "In python we have 3 basic data structures:\n",
        "\n",
        "1.   List\n",
        "2.   Tuple\n",
        "3.   Dictionary\n",
        "\n"
      ]
    },
    {
      "cell_type": "code",
      "metadata": {
        "id": "InONHWEjA8ZS"
      },
      "source": [
        "a_list = [1,2,3,4,5]\n",
        "a_tuple = (1,2,3,4,5)\n",
        "a_dictionary = {\n",
        "    'one': 1,\n",
        "    'two': 2,\n",
        "    'three': 3,\n",
        "}"
      ],
      "execution_count": null,
      "outputs": []
    },
    {
      "cell_type": "markdown",
      "metadata": {
        "id": "HtNO7uOkld6u"
      },
      "source": [
        "A list is a data structure that can expand and contract. You can include any kind of data in it (even a list or the other structures). \n",
        "\n",
        "The list works very much like a string but the way you define it is with the `[]` construct. \n",
        "\n",
        "We can use the slicing operations to access sub lists (like the way we do it with a string)\n",
        "\n",
        "Some convinienet methods to use with lists:\n",
        "\n",
        "- `append(<val>)` - put `<val>` at the end of the string\n",
        "- `insert(<index>, <val>)` - put `<val>` at index `<index>`\n",
        "\n",
        "and we can use the `len(<list>)` function to get the length of the list.\n"
      ]
    },
    {
      "cell_type": "code",
      "metadata": {
        "colab": {
          "base_uri": "https://localhost:8080/"
        },
        "id": "z87mxeDvBoe4",
        "outputId": "ac50d0df-8b38-4b9f-a9d2-ec2941b81ac2"
      },
      "source": [
        "a_list = [1,2,3,4,5]\n",
        "\n",
        "a_list.append(6)\n",
        "print(a_list)\n",
        "\n",
        "print('a_list + [7, 8, 9]', a_list + [7, 8, 9])\n",
        "\n",
        "# slicing like a string\n",
        "print('a_list[1:4]', a_list[1:4])\n",
        "\n",
        "# insert works as well\n",
        "a_list.insert(0, 0)\n",
        "print(a_list)\n",
        "print('len(a_list)', len(a_list))"
      ],
      "execution_count": null,
      "outputs": [
        {
          "output_type": "stream",
          "text": [
            "[1, 2, 3, 4, 5, 6]\n",
            "a_list + [7, 8, 9] [1, 2, 3, 4, 5, 6, 7, 8, 9]\n",
            "a_list[1:4] [2, 3, 4]\n",
            "[0, 1, 2, 3, 4, 5, 6]\n",
            "len(a_list) 7\n"
          ],
          "name": "stdout"
        }
      ]
    },
    {
      "cell_type": "markdown",
      "metadata": {
        "id": "dZSk1BQtm1J2"
      },
      "source": [
        "A tuple is very similar to a list, but you can't change the values of the tuple after you've created it (immutable)\n",
        "\n",
        "Changing the a value in the tuple or extending it will raise an error."
      ]
    },
    {
      "cell_type": "code",
      "metadata": {
        "colab": {
          "base_uri": "https://localhost:8080/"
        },
        "id": "nldCr_HVCH2r",
        "outputId": "2cda63ba-c1d0-40ea-fb0e-f2ba0efd78ca"
      },
      "source": [
        "a_tuple = (1,2,3)\n",
        "new_tuple = a_tuple + (4, 5, 6)\n",
        "print(new_tuple)\n",
        "print(a_tuple)\n",
        "new_tuple[1:4]"
      ],
      "execution_count": null,
      "outputs": [
        {
          "output_type": "stream",
          "text": [
            "(1, 2, 3, 4, 5, 6)\n",
            "(1, 2, 3)\n"
          ],
          "name": "stdout"
        },
        {
          "output_type": "execute_result",
          "data": {
            "text/plain": [
              "(2, 3, 4)"
            ]
          },
          "metadata": {
            "tags": []
          },
          "execution_count": 122
        }
      ]
    },
    {
      "cell_type": "markdown",
      "metadata": {
        "id": "xH4XYYbHnr2q"
      },
      "source": [
        "The dictionary is a data structure that is mainly used for easy and fast lookup. Each value in the dictionary has a key, and the key is what we use to access the data. \n",
        "\n",
        "We use the `{}` to create a dictionary. We can store any type of data in a dictionary. In Javascript, the closest analogue is a basic javascript object."
      ]
    },
    {
      "cell_type": "code",
      "metadata": {
        "colab": {
          "base_uri": "https://localhost:8080/"
        },
        "id": "oVpuN2uGCZpz",
        "outputId": "c3150f36-a400-4e29-806f-3e5610616849"
      },
      "source": [
        "a_list = [1,2,3,4,5]\n",
        "a_tuple = (1,2,3,4,5)\n",
        "a_dictionary = {\n",
        "    'one': 1,\n",
        "    'two': 2,\n",
        "    'three': 3,\n",
        "    'a_list': a_list,\n",
        "    'a_tuple': a_tuple,\n",
        "    'another_dict': {\n",
        "        'a': 'A',\n",
        "        'b': 'B'\n",
        "    }\n",
        "}\n",
        "\n",
        "a_dictionary"
      ],
      "execution_count": null,
      "outputs": [
        {
          "output_type": "execute_result",
          "data": {
            "text/plain": [
              "{'a_list': [1, 2, 3, 4, 5],\n",
              " 'a_tuple': (1, 2, 3, 4, 5),\n",
              " 'another_dict': {'a': 'A', 'b': 'B'},\n",
              " 'one': 1,\n",
              " 'three': 3,\n",
              " 'two': 2}"
            ]
          },
          "metadata": {
            "tags": []
          },
          "execution_count": 125
        }
      ]
    },
    {
      "cell_type": "markdown",
      "metadata": {
        "id": "72RV9xBUoRNm"
      },
      "source": [
        "# Loops\n",
        "\n",
        "We have two basic mechanisms to loop with python:\n",
        "\n",
        "`while` loops and `for` loops\n",
        "\n",
        "You can use these loops to iterate through the data structures and strings.\n",
        "\n",
        "The `while` loop looks like this:\n",
        "\n",
        "```\n",
        "while <while expression>:\n",
        "    <while block>\n",
        "```\n",
        "\n",
        "The `<while expression>` is important to get right. As logn as the `<while expression>` is `True` the `while` loop will run. So make sure that in the `<while block>` the `<while expression>` gets updated.\n",
        "\n",
        "You can easily go infinite loop with the `while` loop if you are not careful."
      ]
    },
    {
      "cell_type": "code",
      "metadata": {
        "id": "GaCV_OhlDues",
        "colab": {
          "base_uri": "https://localhost:8080/"
        },
        "outputId": "f0a972e1-fe3d-44d6-e04b-12e76f140197"
      },
      "source": [
        "a_list = [1,2,3,4,5]\n",
        "a_tuple = (1,2,3,4,5)\n",
        "a_string = 'a string'\n",
        "\n",
        "index = 0\n",
        "while index < 4:\n",
        "  print(a_list[index])\n",
        "  index = index + 1 # index += 1 -> index = index + 1"
      ],
      "execution_count": null,
      "outputs": [
        {
          "output_type": "stream",
          "text": [
            "1\n",
            "2\n",
            "3\n",
            "4\n",
            "--------\n",
            "1\n",
            "2\n",
            "3\n",
            "4\n",
            "5\n"
          ],
          "name": "stdout"
        }
      ]
    },
    {
      "cell_type": "markdown",
      "metadata": {
        "id": "zjbFNb3dpyi8"
      },
      "source": [
        "A `for` is safer but you will need a data structure that you can iterate through.\n",
        "\n",
        "A `for` loop looks like this:\n",
        "\n",
        "```\n",
        "for <variable name> in <data structure>:\n",
        "    <for block>\n",
        "```\n",
        "\n",
        "The `for` loop takes a value one by one from the `<data structure>` and assigns the name `<variable name>` to it. In the` <for block>` you can refereance that variable with the `<variable name>`"
      ]
    },
    {
      "cell_type": "code",
      "metadata": {
        "id": "EUeahhNFp_6Y"
      },
      "source": [
        "a_list = [1,2,3,4,5]\n",
        "a_tuple = (1,2,3,4,5)\n",
        "a_string = 'a string'\n",
        "\n",
        "\n",
        "print('--------')\n",
        "for an_value in a_list:\n",
        "  print(an_value)"
      ],
      "execution_count": null,
      "outputs": []
    },
    {
      "cell_type": "markdown",
      "metadata": {
        "id": "fqLHEcg0sr5i"
      },
      "source": [
        "With dictionaries, there are a few ways to extract the data:\n",
        "\n",
        "1. use the `for` loop directly - you will get the key from the `for` loop\n",
        "2. use `dictionary.values()` - you will get the values of behind the keys from the for loop\n",
        "3. use `a_dictionary.items()` - you will get a `tuple` of `(key, value)`. You then use `,` to delimit them so can access them seperately."
      ]
    },
    {
      "cell_type": "code",
      "metadata": {
        "colab": {
          "base_uri": "https://localhost:8080/"
        },
        "id": "mCi7aXKLGhPI",
        "outputId": "71374ea8-905d-418b-e8d8-c22f62d51176"
      },
      "source": [
        "a_dictionary = {\n",
        "    'one': 1,\n",
        "    'two': 2,\n",
        "    'three': 3,\n",
        "}\n",
        "\n",
        "print('---- key ----')\n",
        "# ordinary iteration\n",
        "for key in a_dictionary:\n",
        "  print(key)\n",
        "\n",
        "print('---- val ---')\n",
        "# values iteration\n",
        "for value in a_dictionary.values():\n",
        "  print(value)\n",
        "\n",
        "# key and value iteration\n",
        "print('---- key, val ---')\n",
        "for key, value in a_dictionary.items():\n",
        "  print(key, value)"
      ],
      "execution_count": null,
      "outputs": [
        {
          "output_type": "stream",
          "text": [
            "---- key ----\n",
            "one\n",
            "two\n",
            "three\n",
            "---- val ---\n",
            "1\n",
            "2\n",
            "3\n",
            "---- key, val ---\n",
            "one 1\n",
            "two 2\n",
            "three 3\n"
          ],
          "name": "stdout"
        }
      ]
    },
    {
      "cell_type": "markdown",
      "metadata": {
        "id": "sjOCSLypqoww"
      },
      "source": [
        "# Functions\n",
        "\n",
        "A function is a piece of code that has it's own domain. You can define variables in it and the outside of the function won't have access to it. We can use them to isolate logic and reuse them in other places in the code base.\n",
        "\n",
        "A function looks like this:\n",
        "\n",
        "```\n",
        "def <func name>(<argument list>):\n",
        "    <function block>\n",
        "```\n",
        "\n",
        "the argument list is seperated by a `,`. To return a value we must use the `return` key word in the `<function block>`. Anything after the `<return>` will not be run. \n",
        "\n",
        "A function evaluates to its return value. If there function does not explicitly return anything then it'll be `None`"
      ]
    },
    {
      "cell_type": "code",
      "metadata": {
        "colab": {
          "base_uri": "https://localhost:8080/"
        },
        "id": "xSzk2hVfE_74",
        "outputId": "3d427d6d-a436-403f-88d4-cc32c2a54767"
      },
      "source": [
        "input_a = 5\n",
        "input_b = 3\n",
        "\n",
        "def example(value_a, value_b):\n",
        "  input_a = value_a + value_b\n",
        "  input_b = value_a - value_b\n",
        "  return input_a + input_b\n",
        "\n",
        "# we used input_a and input_b in the function and it didn't affect the input_a\n",
        "# and input_b outside it\n",
        "\n",
        "print('example(1, 2)', example(1, 2))\n",
        "print('input_a', input_a)\n",
        "print('input_b', input_b)\n",
        "\n",
        "print('example(input_a, input_b)', example(input_a, input_b))"
      ],
      "execution_count": null,
      "outputs": [
        {
          "output_type": "stream",
          "text": [
            "example(1, 2) 2\n",
            "input_a 5\n",
            "input_b 3\n",
            "example(input_a, input_b) 10\n"
          ],
          "name": "stdout"
        }
      ]
    },
    {
      "cell_type": "markdown",
      "metadata": {
        "id": "DVYgnOwDsc8S"
      },
      "source": [
        "To return multiple values, you delimit them with the `,`. "
      ]
    },
    {
      "cell_type": "code",
      "metadata": {
        "colab": {
          "base_uri": "https://localhost:8080/"
        },
        "id": "ggux9-RuGG09",
        "outputId": "aadf424d-f0f9-46c3-f259-22dfa4250861"
      },
      "source": [
        "def example_2(input_a, input_b):\n",
        "  return input_a, input_b # is a tuple  -> return (input_a, input_b)\n",
        "\n",
        "# unpacking\n",
        "some_a, some_b = example_2(1, 2)\n",
        "print(some_a)\n",
        "print(some_b)"
      ],
      "execution_count": null,
      "outputs": [
        {
          "output_type": "stream",
          "text": [
            "1\n",
            "2\n"
          ],
          "name": "stdout"
        }
      ]
    },
    {
      "cell_type": "markdown",
      "metadata": {
        "id": "esFoRlPLthWB"
      },
      "source": [
        "We can define default values to function. We call these keyword arguments, and to add them, we define the name of the argument and assign it a value in the when add them in the arguments list:"
      ]
    },
    {
      "cell_type": "code",
      "metadata": {
        "colab": {
          "base_uri": "https://localhost:8080/"
        },
        "id": "1ukMkCpmHym_",
        "outputId": "10d286e2-2a55-403d-f036-18452c757131"
      },
      "source": [
        "def example(input_a, input_b=0, input_c=1):\n",
        "  return (input_a + input_b) * input_c\n",
        "\n",
        "\n",
        "print(example(0)) # successor -> n => n+1\n",
        "print(example(0, input_b=2)) # additional\n",
        "print(example(5, input_c=3)) # multiplication\n",
        "print(example(1, input_b=2, input_c=3))"
      ],
      "execution_count": null,
      "outputs": [
        {
          "output_type": "stream",
          "text": [
            "0\n",
            "2\n",
            "15\n",
            "9\n"
          ],
          "name": "stdout"
        }
      ]
    },
    {
      "cell_type": "markdown",
      "metadata": {
        "id": "shNqJKnit0Qw"
      },
      "source": [
        "Functions are very versatile. We can even call the function within itself. This is called recursion. Recursion is another way of \"looping\" but you have to be careful defining the exit of the function.\n",
        "\n",
        "A recursion has two parts:\n",
        "\n",
        "1. base case\n",
        "2. recursion case\n",
        "\n",
        "The base case is the piece of code that terminates the recursion (the logic the calls the `return` keyword)\n",
        "\n",
        "The recursion case the the step where the function is called again.\n",
        "\n",
        "Below, we loop through a list using recursion:"
      ]
    },
    {
      "cell_type": "code",
      "metadata": {
        "colab": {
          "base_uri": "https://localhost:8080/"
        },
        "id": "sLYaybXqJG_H",
        "outputId": "141f57cc-5734-4b68-abdd-ec917123cd8d"
      },
      "source": [
        "a_list = [1,2,3,4,5]\n",
        "\n",
        "def for_loop(input_list, index=0):\n",
        "  if len(input_list) == index:\n",
        "    return\n",
        "  print(input_list[index])\n",
        "  for_loop(input_list, index=index+1)\n",
        "\n",
        "\n",
        "for_loop(a_list)"
      ],
      "execution_count": null,
      "outputs": [
        {
          "output_type": "stream",
          "text": [
            "1\n",
            "2\n",
            "3\n",
            "4\n",
            "5\n"
          ],
          "name": "stdout"
        }
      ]
    },
    {
      "cell_type": "markdown",
      "metadata": {
        "id": "9H8vK-zmukUx"
      },
      "source": [
        "One last thing with functions: As with everything in python, a function is just another object and can be assigned to a variable. The `def` construct explicitly asks us for a name. We have another construct to build functions called `lambda` which doesn't give a function a name. We can assign a lambda expression to variable and pass around the function."
      ]
    },
    {
      "cell_type": "code",
      "metadata": {
        "colab": {
          "base_uri": "https://localhost:8080/"
        },
        "id": "btSupuhbJ3vB",
        "outputId": "97e07d2a-d49d-48af-bff6-1eecc1ed6526"
      },
      "source": [
        "lambda x, y: x + y\n",
        "# equivalent\n",
        "def some_fun(x, y):\n",
        "  return x + y\n",
        "\n",
        "a_nameless_func = lambda x: x +1\n",
        "def some_func_2(x):\n",
        "  return x + 1\n",
        "\n",
        "print(some_func_2(1))\n",
        "print(a_nameless_func(1))\n"
      ],
      "execution_count": null,
      "outputs": [
        {
          "output_type": "stream",
          "text": [
            "2\n",
            "2\n"
          ],
          "name": "stdout"
        }
      ]
    },
    {
      "cell_type": "markdown",
      "metadata": {
        "id": "LDqPaDekvCpR"
      },
      "source": [
        "And as said before, since functions are objects we can use them as arguments to functions:"
      ]
    },
    {
      "cell_type": "code",
      "metadata": {
        "colab": {
          "base_uri": "https://localhost:8080/"
        },
        "id": "pt7_L80yKlYM",
        "outputId": "3b6d38a9-9f8d-4685-9399-3b1f4a5d6f3d"
      },
      "source": [
        "def func_runner(func_input):\n",
        "  func_input(1)\n",
        "\n",
        "some_func = lambda x: print(x+1)\n",
        "\n",
        "some_func(1)\n",
        "func_runner(some_func)"
      ],
      "execution_count": null,
      "outputs": [
        {
          "output_type": "stream",
          "text": [
            "2\n",
            "2\n"
          ],
          "name": "stdout"
        }
      ]
    },
    {
      "cell_type": "markdown",
      "metadata": {
        "id": "JSKrLKcDvGir"
      },
      "source": [
        "# Errors and Exceptions\n",
        "\n",
        "We don't always make perfect code so errors are bound to happen. In python, programming errors occur in a very specific way. These usually come as an `Exception`. \n",
        "\n",
        "When we expect a function or a code block to fail, we can use a `try-except` block.\n",
        "\n",
        "The `try-except` block looks like this:\n",
        "\n",
        "```\n",
        "try:\n",
        "   <code block>\n",
        "except <exception list>:\n",
        "   <exception block>\n",
        "```\n",
        "\n",
        "When an error occurs in the `<code block>` depending if the type of error is specified in `<exception list>` then the `<exception block>` will run. \n",
        "\n",
        "`<exception list>` is optional, and if it's not defined, it will catch every type of exception. This is in general not a good idea as it will make debugging very hard."
      ]
    },
    {
      "cell_type": "code",
      "metadata": {
        "colab": {
          "base_uri": "https://localhost:8080/"
        },
        "id": "UaTRlNHQLDB5",
        "outputId": "5f75eefc-ba49-4bda-9f92-e37f4a841e6a"
      },
      "source": [
        "some_func = lambda x: print(x+1)\n",
        "\n",
        "try:\n",
        "  some_func()\n",
        "except TypeError:\n",
        "  print('You\\'re missing your argument')"
      ],
      "execution_count": null,
      "outputs": [
        {
          "output_type": "stream",
          "text": [
            "You're missing your argument\n"
          ],
          "name": "stdout"
        }
      ]
    },
    {
      "cell_type": "markdown",
      "metadata": {
        "id": "gJNIMRk-wOrj"
      },
      "source": [
        "There are several types of exceptions:\n",
        "\n",
        "\n",
        "1. `ValueError`\n",
        "2. `TypeError`\n",
        "3. `AttributeError`\n",
        "\n",
        "Many more are defined, and you can use the error data to catch specific errors.\n",
        "\n"
      ]
    },
    {
      "cell_type": "code",
      "metadata": {
        "colab": {
          "base_uri": "https://localhost:8080/"
        },
        "id": "ufpHQCIOMNMl",
        "outputId": "e291e6da-0b91-4d64-e3c6-aaf9bb7b2fb6"
      },
      "source": [
        "\n",
        "def a_failing_function(some_number):\n",
        "  internal_list = [1,2,3,4,5]\n",
        "  return internal_list.index(some_number)\n",
        "\n",
        "try:\n",
        "  a_failing_function(6)\n",
        "except ValueError:\n",
        "  print('we dont have that number')\n",
        "\n",
        "# ValueError\n",
        "# TypeError\n",
        "# AttributeError"
      ],
      "execution_count": null,
      "outputs": [
        {
          "output_type": "stream",
          "text": [
            "we dont have that number\n"
          ],
          "name": "stdout"
        }
      ]
    },
    {
      "cell_type": "markdown",
      "metadata": {
        "id": "_moXAWU8wbJI"
      },
      "source": [
        "`<exception list>` is defined as tuple:"
      ]
    },
    {
      "cell_type": "code",
      "metadata": {
        "colab": {
          "base_uri": "https://localhost:8080/"
        },
        "id": "8P3Gw2lMM4TY",
        "outputId": "64420550-74ae-4a3a-c521-ddeb2ec2f1c7"
      },
      "source": [
        "def this_one_always_complains():\n",
        "  raise AttributeError\n",
        "\n",
        "\n",
        "try:\n",
        "  this_one_always_complains()\n",
        "except (AttributeError, ValueError):\n",
        "  print('we good')"
      ],
      "execution_count": null,
      "outputs": [
        {
          "output_type": "stream",
          "text": [
            "we good\n"
          ],
          "name": "stdout"
        }
      ]
    },
    {
      "cell_type": "markdown",
      "metadata": {
        "id": "8Krt_TZ-wqNJ"
      },
      "source": [
        "The exception is also an object. To access it we use the `as` keyword.\n",
        "\n",
        "Note: when you put the error into a string (through string interpolation), the python puts the error message as it's string representation."
      ]
    },
    {
      "cell_type": "code",
      "metadata": {
        "colab": {
          "base_uri": "https://localhost:8080/"
        },
        "id": "3MI6pnjiw9XG",
        "outputId": "fb004b28-7e00-4b1f-f664-02a7f121021d"
      },
      "source": [
        "def a_failing_function(some_number):\n",
        "  internal_list = [1,2,3,4,5]\n",
        "  return internal_list.index(some_number)\n",
        "\n",
        "try:\n",
        "  a_failing_function(6)\n",
        "except ValueError as error:\n",
        "  print(f'we dont have that number (error: {error})')"
      ],
      "execution_count": null,
      "outputs": [
        {
          "output_type": "stream",
          "text": [
            "we dont have that number (error: 6 is not in list)\n"
          ],
          "name": "stdout"
        }
      ]
    },
    {
      "cell_type": "markdown",
      "metadata": {
        "id": "5zRiA_38xZX0"
      },
      "source": [
        "# Example To do list\n",
        "\n",
        "With loops, functions and the data structures we can build a todo list program.\n",
        "\n",
        "We'll use lists to store the todo list and we'll use a few different functions to split the functionality then run a loop to take the input indefinitely.\n",
        "\n",
        "The split:\n",
        "\n",
        "1. `add_to_list` add an item to the todo list\n",
        "2. `remove_from_list` remove an item matching the entry - make sure if the entry is not there that this function doesn't fail\n",
        "3. `what_am_i_suppose_todo` list all the items in the to do list\n",
        "4. `while` loop that runs indefinitely accepting input"
      ]
    },
    {
      "cell_type": "code",
      "metadata": {
        "id": "I5qOOuDiNcO7"
      },
      "source": [
        "our_todo_list = []\n",
        "\n",
        "# take an item and add it into the list\n",
        "def add_to_list(item, item_list):\n",
        "  if item not in item_list: # in checks for membership\n",
        "    sitem_list.append(item.lower())\n",
        "\n",
        "# remove an item that matches the item input in a list\n",
        "def remove_from_list(item, item_list):\n",
        "  try:\n",
        "    item_list.remove(item)\n",
        "  except ValueError:\n",
        "    print('you\\'re not doing that yet')\n",
        "\n",
        "# print out the list using a for loop\n",
        "def what_am_i_suppose_todo(item_list):\n",
        "  for item in item_list:\n",
        "    print(item)\n",
        "\n",
        "# while True means this runs forever\n",
        "while True:\n",
        "  new_task = input('thing I want to do: ')\n",
        "  # if the input is `delete_item` then we ask the user\n",
        "  # another input to call the delete functionality\n",
        "  if new_task == 'delete_item':\n",
        "    to_delete = input('what should I remove?: ')\n",
        "    remove_from_list(to_delete, our_todo_list)\n",
        "  else:\n",
        "    add_to_list(new_task, our_todo_list)\n",
        "\n",
        "  # with every operation we print out our list\n",
        "  what_am_i_suppose_todo(our_todo_list)\n",
        "\n"
      ],
      "execution_count": null,
      "outputs": []
    }
  ]
}